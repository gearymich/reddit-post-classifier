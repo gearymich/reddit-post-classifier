{
  "cells": [
    {
      "cell_type": "code",
      "execution_count": 3,
      "metadata": {
        "id": "-K0lSvHicv-I"
      },
      "outputs": [],
      "source": [
        "import requests\n",
        "import pandas as pd\n",
        "import asyncpraw"
      ]
    },
    {
      "cell_type": "code",
      "execution_count": 4,
      "metadata": {
        "id": "nWEoR91DkfWh"
      },
      "outputs": [],
      "source": [
        "# Create an instance of reddit class\n",
        "reddit = asyncpraw.Reddit(\n",
        "    client_id=\"MvhsNc13eZIfGILzJsul5A\",\n",
        "    client_secret=\"uDp1opuHa4L3Fi1unVil6avC0W8Tkw\",\n",
        "    password=\"informationretrieval\",\n",
        "    user_agent=\"window:com.example.redditIR:v0.7.2\",\n",
        "    username=\"Dywe_IR\",\n",
        ")"
      ]
    },
    {
      "cell_type": "code",
      "execution_count": 5,
      "metadata": {
        "id": "NKsOV0RNmO6Y"
      },
      "outputs": [],
      "source": [
        "reddit_dict = {'subreddit':[],'title':[], 'body':[]} \n",
        "async for subreddit in reddit.subreddits.default(limit=50):\n",
        "  subreddit_name = subreddit.display_name\n",
        "  subR = await reddit.subreddit(subreddit_name)\n",
        "  async for submission in subR.top(time_filter=\"all\", limit=100):\n",
        "    title, body = submission.title, submission.selftext\n",
        "    reddit_dict['subreddit'].append(subreddit_name)\n",
        "    reddit_dict['title'].append(title)\n",
        "    reddit_dict['body'].append(body)\n"
      ]
    },
    {
      "cell_type": "code",
      "execution_count": 6,
      "metadata": {
        "colab": {
          "base_uri": "https://localhost:8080/"
        },
        "id": "F5E6hAM3vQoI",
        "outputId": "a66236ba-ff75-4a02-8b0d-8fd500a96d3e"
      },
      "outputs": [
        {
          "data": {
            "text/plain": [
              "0        \n",
              "1        \n",
              "2        \n",
              "3        \n",
              "4        \n",
              "       ..\n",
              "4695     \n",
              "4696     \n",
              "4697     \n",
              "4698     \n",
              "4699     \n",
              "Name: body, Length: 4700, dtype: object"
            ]
          },
          "execution_count": 6,
          "metadata": {},
          "output_type": "execute_result"
        }
      ],
      "source": [
        "df = pd.DataFrame.from_dict(reddit_dict)\n",
        "df['body']"
      ]
    },
    {
      "cell_type": "code",
      "execution_count": 7,
      "metadata": {
        "colab": {
          "base_uri": "https://localhost:8080/",
          "height": 423
        },
        "id": "rP-5oIO1viPZ",
        "outputId": "e20ddd50-8e3b-4485-d721-9c65104b7dc8"
      },
      "outputs": [
        {
          "data": {
            "text/html": [
              "<div>\n",
              "<style scoped>\n",
              "    .dataframe tbody tr th:only-of-type {\n",
              "        vertical-align: middle;\n",
              "    }\n",
              "\n",
              "    .dataframe tbody tr th {\n",
              "        vertical-align: top;\n",
              "    }\n",
              "\n",
              "    .dataframe thead th {\n",
              "        text-align: right;\n",
              "    }\n",
              "</style>\n",
              "<table border=\"1\" class=\"dataframe\">\n",
              "  <thead>\n",
              "    <tr style=\"text-align: right;\">\n",
              "      <th></th>\n",
              "      <th>subreddit</th>\n",
              "      <th>title</th>\n",
              "      <th>body</th>\n",
              "    </tr>\n",
              "  </thead>\n",
              "  <tbody>\n",
              "    <tr>\n",
              "      <th>207</th>\n",
              "      <td>gaming</td>\n",
              "      <td>Can we please boycott Star Wars battlefront 2</td>\n",
              "      <td>I bought EA Star Wars Battlefront as a fan of ...</td>\n",
              "    </tr>\n",
              "    <tr>\n",
              "      <th>222</th>\n",
              "      <td>gaming</td>\n",
              "      <td>Join the Battle for Net Neutrality! Net Neutra...</td>\n",
              "      <td>[Learn about Net Neutrality, why it's importan...</td>\n",
              "    </tr>\n",
              "    <tr>\n",
              "      <th>248</th>\n",
              "      <td>gaming</td>\n",
              "      <td>EA deleted my Origin account and EA help is to...</td>\n",
              "      <td>**ORIGINAL POST BELOW:**\\n\\n*I am a veteran pl...</td>\n",
              "    </tr>\n",
              "    <tr>\n",
              "      <th>260</th>\n",
              "      <td>gaming</td>\n",
              "      <td>R.I.P TotalBiscuit</td>\n",
              "      <td>https://twitter.com/GennaBain/status/999785407...</td>\n",
              "    </tr>\n",
              "    <tr>\n",
              "      <th>503</th>\n",
              "      <td>videos</td>\n",
              "      <td>Net Neutrality Videos &amp; Discussion Megathread</td>\n",
              "      <td>###Net Neutrality is the principle that intern...</td>\n",
              "    </tr>\n",
              "    <tr>\n",
              "      <th>...</th>\n",
              "      <td>...</td>\n",
              "      <td>...</td>\n",
              "      <td>...</td>\n",
              "    </tr>\n",
              "    <tr>\n",
              "      <th>4299</th>\n",
              "      <td>tifu</td>\n",
              "      <td>TIFU by asking my \"gf\" why she was feeling sad.</td>\n",
              "      <td>This actually happened yesterday and I still c...</td>\n",
              "    </tr>\n",
              "    <tr>\n",
              "      <th>4600</th>\n",
              "      <td>science</td>\n",
              "      <td>Physicist Stephen Hawking dies aged 76</td>\n",
              "      <td>We regret to hear that [Stephen Hawking died t...</td>\n",
              "    </tr>\n",
              "    <tr>\n",
              "      <th>4603</th>\n",
              "      <td>science</td>\n",
              "      <td>Raising the taxes of graduate students by as m...</td>\n",
              "      <td>Science and technology development has been th...</td>\n",
              "    </tr>\n",
              "    <tr>\n",
              "      <th>4658</th>\n",
              "      <td>science</td>\n",
              "      <td>[Megathread] World's most prestigious scientif...</td>\n",
              "      <td>We have received numerous submissions concerni...</td>\n",
              "    </tr>\n",
              "    <tr>\n",
              "      <th>4663</th>\n",
              "      <td>science</td>\n",
              "      <td>Science Ama Series: I am Stephen Hawking, theo...</td>\n",
              "      <td>I signed an open letter earlier this year impl...</td>\n",
              "    </tr>\n",
              "  </tbody>\n",
              "</table>\n",
              "<p>826 rows × 3 columns</p>\n",
              "</div>"
            ],
            "text/plain": [
              "     subreddit                                              title   \n",
              "207     gaming      Can we please boycott Star Wars battlefront 2  \\\n",
              "222     gaming  Join the Battle for Net Neutrality! Net Neutra...   \n",
              "248     gaming  EA deleted my Origin account and EA help is to...   \n",
              "260     gaming                                 R.I.P TotalBiscuit   \n",
              "503     videos      Net Neutrality Videos & Discussion Megathread   \n",
              "...        ...                                                ...   \n",
              "4299      tifu    TIFU by asking my \"gf\" why she was feeling sad.   \n",
              "4600   science             Physicist Stephen Hawking dies aged 76   \n",
              "4603   science  Raising the taxes of graduate students by as m...   \n",
              "4658   science  [Megathread] World's most prestigious scientif...   \n",
              "4663   science  Science Ama Series: I am Stephen Hawking, theo...   \n",
              "\n",
              "                                                   body  \n",
              "207   I bought EA Star Wars Battlefront as a fan of ...  \n",
              "222   [Learn about Net Neutrality, why it's importan...  \n",
              "248   **ORIGINAL POST BELOW:**\\n\\n*I am a veteran pl...  \n",
              "260   https://twitter.com/GennaBain/status/999785407...  \n",
              "503   ###Net Neutrality is the principle that intern...  \n",
              "...                                                 ...  \n",
              "4299  This actually happened yesterday and I still c...  \n",
              "4600  We regret to hear that [Stephen Hawking died t...  \n",
              "4603  Science and technology development has been th...  \n",
              "4658  We have received numerous submissions concerni...  \n",
              "4663  I signed an open letter earlier this year impl...  \n",
              "\n",
              "[826 rows x 3 columns]"
            ]
          },
          "execution_count": 7,
          "metadata": {},
          "output_type": "execute_result"
        }
      ],
      "source": [
        "df[df['body'].str.len() > 0]"
      ]
    },
    {
      "cell_type": "code",
      "execution_count": 9,
      "metadata": {},
      "outputs": [],
      "source": [
        "# download the dataset as csv\n",
        "df.to_csv('reddit.csv', index=False)"
      ]
    }
  ],
  "metadata": {
    "colab": {
      "provenance": []
    },
    "kernelspec": {
      "display_name": "Python 3",
      "language": "python",
      "name": "python3"
    },
    "language_info": {
      "codemirror_mode": {
        "name": "ipython",
        "version": 3
      },
      "file_extension": ".py",
      "mimetype": "text/x-python",
      "name": "python",
      "nbconvert_exporter": "python",
      "pygments_lexer": "ipython3",
      "version": "3.9.13"
    },
    "vscode": {
      "interpreter": {
        "hash": "e5bf2c6cd25f65e77a687210161142421f62ec412c3e200a36e1b1880a5ff153"
      }
    }
  },
  "nbformat": 4,
  "nbformat_minor": 0
}
