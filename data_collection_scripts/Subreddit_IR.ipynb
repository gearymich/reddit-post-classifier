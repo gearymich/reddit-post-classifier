{
  "nbformat": 4,
  "nbformat_minor": 0,
  "metadata": {
    "colab": {
      "provenance": []
    },
    "kernelspec": {
      "name": "python3",
      "display_name": "Python 3"
    },
    "language_info": {
      "name": "python"
    }
  },
  "cells": [
    {
      "cell_type": "code",
      "execution_count": null,
      "metadata": {
        "id": "-K0lSvHicv-I"
      },
      "outputs": [],
      "source": [
        "import requests\n",
        "import pandas as pd\n",
        "!pip install --upgrade asyncpraw\n",
        "import asyncpraw"
      ]
    },
    {
      "cell_type": "code",
      "source": [
        "# Create an instance of reddit class\n",
        "reddit = asyncpraw.Reddit(\n",
        "    client_id=\"MvhsNc13eZIfGILzJsul5A\",\n",
        "    client_secret=\"uDp1opuHa4L3Fi1unVil6avC0W8Tkw\",\n",
        "    password=\"informationretrieval\",\n",
        "    user_agent=\"window:com.example.redditIR:v0.7.2\",\n",
        "    username=\"Dywe_IR\",\n",
        ")"
      ],
      "metadata": {
        "id": "nWEoR91DkfWh"
      },
      "execution_count": null,
      "outputs": []
    },
    {
      "cell_type": "code",
      "source": [
        "reddit_dict = {'category':[],'title':[], 'body':[], 'super_category':[]} \n",
        "sub_dict = {'news':          ['worldnews', 'news', 'nottheonion', 'politics', 'UpliftingNews'],\n",
        "            'learning':      ['AskReddit', 'todayilearned', 'explainlikeimfive', 'OutOfTheLoop', 'YouShouldKnow'],\n",
        "            'sport':         ['sports', 'formula1', 'baseball', 'MMA', 'PremierLeague'],\n",
        "            'humor':         ['funny', 'Showerthoughts', 'Jokes', 'ProgrammerHumor', 'trippinthroughtime'],\n",
        "            'entertainment': ['Music', 'movies', 'videos', 'Art', 'OldSchoolCool', 'mildlyinteresting'],\n",
        "            'science':       ['space', 'nasa', 'science', 'askscience', 'Futurology'],\n",
        "            'technology':    ['technology', 'programming', 'dataisbeautiful', 'apple', 'Android'],\n",
        "            'animals':       ['aww', 'rarepuppers', 'cats', 'Eyebleach', 'natureismetal'],\n",
        "            'foods':         ['FoodPorn', 'foodhacks', 'keto', 'baking', 'Coffee'],\n",
        "            'gaming':        ['gaming', 'pcgaming', 'Games', 'boardgames', 'ShouldIbuythisgame']}\n",
        "\n",
        "for cat, subNs in sub_dict.items():\n",
        "  for sn in subNs:\n",
        "    subR = await reddit.subreddit(sn)\n",
        "    async for submission in subR.top(time_filter=\"all\", limit=100):\n",
        "      title, body = submission.title, submission.selftext\n",
        "      reddit_dict['category'].append(sn)\n",
        "      reddit_dict['title'].append(title)\n",
        "      reddit_dict['body'].append(body)\n",
        "      reddit_dict['super_category'].append(cat)"
      ],
      "metadata": {
        "id": "NKsOV0RNmO6Y"
      },
      "execution_count": null,
      "outputs": []
    },
    {
      "cell_type": "code",
      "source": [
        "df = pd.DataFrame.from_dict(reddit_dict)\n",
        "df.to_csv('reddit_data.csv', index=False) \n",
        "print(df.info())"
      ],
      "metadata": {
        "id": "F5E6hAM3vQoI",
        "colab": {
          "base_uri": "https://localhost:8080/"
        },
        "outputId": "6f17cdfc-cac4-4e5c-8db3-29566b81cc81"
      },
      "execution_count": null,
      "outputs": [
        {
          "output_type": "stream",
          "name": "stdout",
          "text": [
            "<class 'pandas.core.frame.DataFrame'>\n",
            "RangeIndex: 5100 entries, 0 to 5099\n",
            "Data columns (total 4 columns):\n",
            " #   Column          Non-Null Count  Dtype \n",
            "---  ------          --------------  ----- \n",
            " 0   category        5100 non-null   object\n",
            " 1   title           5100 non-null   object\n",
            " 2   body            5100 non-null   object\n",
            " 3   super_category  5100 non-null   object\n",
            "dtypes: object(4)\n",
            "memory usage: 159.5+ KB\n",
            "None\n"
          ]
        }
      ]
    },
    {
      "cell_type": "code",
      "source": [
        "df_re = pd.read_csv('reddit_data.csv')\n",
        "# General Info\n",
        "print(df_re.info())\n",
        "print(df_re.super_category.unique())\n",
        "# Out of 5100, only ~800 documents have sufficient text body\n",
        "#  --> Mainly focus on title instead"
      ],
      "metadata": {
        "colab": {
          "base_uri": "https://localhost:8080/"
        },
        "id": "v2UAebklnP6r",
        "outputId": "c34dbddb-591e-4639-eb32-777dec2563ff"
      },
      "execution_count": null,
      "outputs": [
        {
          "output_type": "stream",
          "name": "stdout",
          "text": [
            "<class 'pandas.core.frame.DataFrame'>\n",
            "RangeIndex: 5100 entries, 0 to 5099\n",
            "Data columns (total 4 columns):\n",
            " #   Column          Non-Null Count  Dtype \n",
            "---  ------          --------------  ----- \n",
            " 0   category        5100 non-null   object\n",
            " 1   title           5100 non-null   object\n",
            " 2   body            798 non-null    object\n",
            " 3   super_category  5100 non-null   object\n",
            "dtypes: object(4)\n",
            "memory usage: 159.5+ KB\n",
            "None\n",
            "['news' 'learning' 'sport' 'humor' 'entertainment' 'science' 'technology'\n",
            " 'animals' 'foods' 'gaming']\n"
          ]
        }
      ]
    }
  ]
}