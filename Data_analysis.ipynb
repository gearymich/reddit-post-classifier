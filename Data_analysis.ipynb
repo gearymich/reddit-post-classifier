{
 "cells": [
  {
   "cell_type": "code",
   "execution_count": 1,
   "metadata": {},
   "outputs": [],
   "source": [
    "import pandas as pd\n"
   ]
  },
  {
   "cell_type": "code",
   "execution_count": 6,
   "metadata": {},
   "outputs": [
    {
     "name": "stdout",
     "output_type": "stream",
     "text": [
      "     subreddit                                              title body\n",
      "0      gadgets  EU proposes mandatory USB-C on all devices, in...  NaN\n",
      "1      gadgets  US lawmakers announce bill to prohibit bot sca...  NaN\n",
      "2      gadgets  Apple apologizes for iPhone slowdown drama, wi...  NaN\n",
      "3      gadgets  300 Drones Formed a QR Code That Rick Rolled D...  NaN\n",
      "4      gadgets  Logitech finally finds a good use for wireless...  NaN\n",
      "...        ...                                                ...  ...\n",
      "4695   science  In a new study, Americans disproportionately c...  NaN\n",
      "4696   science  Scientists Discover Clean Water Ice Just Below...  NaN\n",
      "4697   science  Young children would rather explore than get r...  NaN\n",
      "4698   science  Researchers say if parents want to successfull...  NaN\n",
      "4699   science  Japanese scientists create vaccine for aging t...  NaN\n",
      "\n",
      "[4700 rows x 3 columns]\n"
     ]
    }
   ],
   "source": [
    "df = pd.read_csv ('reddit.csv')\n",
    "print(df)\n",
    "\n",
    "\n"
   ]
  },
  {
   "cell_type": "code",
   "execution_count": 15,
   "metadata": {},
   "outputs": [
    {
     "name": "stdout",
     "output_type": "stream",
     "text": [
      "['gadgets', 'sports', 'gaming', 'pics', 'worldnews', 'videos', 'AskReddit', 'aww', 'Music', 'funny', 'news', 'movies', 'blog', 'books', 'history', 'food', 'philosophy', 'Jokes', 'Art', 'DIY', 'space', 'Documentaries', 'askscience', 'nottheonion', 'todayilearned', 'gifs', 'listentothis', 'IAmA', 'announcements', 'TwoXChromosomes', 'creepy', 'nosleep', 'GetMotivated', 'WritingPrompts', 'LifeProTips', 'EarthPorn', 'explainlikeimfive', 'Showerthoughts', 'Futurology', 'photoshopbattles', 'mildlyinteresting', 'dataisbeautiful', 'tifu', 'OldSchoolCool', 'UpliftingNews', 'InternetIsBeautiful', 'science']\n",
      "subreddit\n",
      "Art                    100\n",
      "nosleep                100\n",
      "funny                  100\n",
      "gadgets                100\n",
      "gaming                 100\n",
      "gifs                   100\n",
      "history                100\n",
      "listentothis           100\n",
      "mildlyinteresting      100\n",
      "movies                 100\n",
      "news                   100\n",
      "nottheonion            100\n",
      "explainlikeimfive      100\n",
      "philosophy             100\n",
      "photoshopbattles       100\n",
      "pics                   100\n",
      "science                100\n",
      "space                  100\n",
      "sports                 100\n",
      "tifu                   100\n",
      "todayilearned          100\n",
      "videos                 100\n",
      "food                   100\n",
      "dataisbeautiful        100\n",
      "AskReddit              100\n",
      "Music                  100\n",
      "DIY                    100\n",
      "Documentaries          100\n",
      "EarthPorn              100\n",
      "Futurology             100\n",
      "GetMotivated           100\n",
      "IAmA                   100\n",
      "InternetIsBeautiful    100\n",
      "Jokes                  100\n",
      "LifeProTips            100\n",
      "OldSchoolCool          100\n",
      "creepy                 100\n",
      "Showerthoughts         100\n",
      "TwoXChromosomes        100\n",
      "UpliftingNews          100\n",
      "WritingPrompts         100\n",
      "announcements          100\n",
      "askscience             100\n",
      "aww                    100\n",
      "blog                   100\n",
      "books                  100\n",
      "worldnews              100\n",
      "dtype: int64\n"
     ]
    }
   ],
   "source": [
    "# creat list of unique subreddits\n",
    "unique_subreddits = df['subreddit'].unique().tolist()\n",
    "print(unique_subreddits)\n",
    "\n",
    "# of unique posts per subreddit\n",
    "print(df.groupby('subreddit').size().sort_values(ascending=False))\n"
   ]
  },
  {
   "cell_type": "code",
   "execution_count": 24,
   "metadata": {},
   "outputs": [
    {
     "name": "stdout",
     "output_type": "stream",
     "text": [
      "    subreddit super_category\n",
      "211    gaming  Entertainment\n",
      "212    gaming  Entertainment\n",
      "213    gaming  Entertainment\n",
      "214    gaming  Entertainment\n",
      "215    gaming  Entertainment\n",
      "216    gaming  Entertainment\n",
      "217    gaming  Entertainment\n",
      "218    gaming  Entertainment\n",
      "219    gaming  Entertainment\n",
      "super_category\n",
      "Entertainment    3100\n",
      "Science           600\n",
      "News              500\n",
      "Sports            100\n",
      "dtype: int64\n"
     ]
    }
   ],
   "source": [
    "# create 5 super categories that subreddits can be assigned to\n",
    "super_categories = ['Sports', 'Politics', 'Entertainment', 'News', 'Science']\n",
    "\n",
    "# create dictionary of subreddits and super categories\n",
    "subreddit_to_super_category = {\n",
    "    'nba': 'Sports',\n",
    "    'nfl': 'Sports',\n",
    "    'soccer': 'Sports',\n",
    "    'hockey': 'Sports',\n",
    "    'baseball': 'Sports',\n",
    "    'worldnews': 'News',\n",
    "    'news': 'News',\n",
    "    'todayilearned': 'News',\n",
    "    'movies': 'Entertainment',\n",
    "    'television': 'Entertainment',\n",
    "    'music': 'Entertainment',\n",
    "    'books': 'Entertainment',\n",
    "    'gaming': 'Entertainment',\n",
    "    'science': 'Science',\n",
    "    'technology': 'Science',\n",
    "    'space': 'Science',\n",
    "    'politics': 'Politics',\n",
    "    'funny': 'Entertainment',\n",
    "    'AskReddit': 'Entertainment',\n",
    "    'aww': 'Entertainment',\n",
    "    'gifs': 'Entertainment',\n",
    "    'videos': 'Entertainment',\n",
    "    'iama': 'Entertainment',\n",
    "    'pics': 'Entertainment',\n",
    "    'gadgets': 'Science',\n",
    "    'EarthPorn': 'Entertainment',\n",
    "    'explainlikeimfive': 'Entertainment',\n",
    "    'LifeProTips': 'Entertainment',\n",
    "    'DIY': 'Entertainment',\n",
    "    'nottheonion': 'News',\n",
    "    'Showerthoughts': 'Entertainment',\n",
    "    'tifu': 'Entertainment',\n",
    "    'Jokes': 'Entertainment',\n",
    "    'dataisbeautiful': 'Science',\n",
    "    'personalfinance': 'News',\n",
    "    'UpliftingNews': 'News',\n",
    "    'listentothis': 'Entertainment',\n",
    "    'Futurology': 'Science',\n",
    "    'food': 'Entertainment',\n",
    "    'GetMotivated': 'Entertainment',\n",
    "    'Documentaries': 'Entertainment',\n",
    "    'history': 'Entertainment',\n",
    "    'nosleep': 'Entertainment',\n",
    "    'creepy': 'Entertainment',\n",
    "    'tattoos': 'Entertainment',\n",
    "    'Fitness': 'Entertainment',\n",
    "    'writingprompts': 'Entertainment',\n",
    "    'philosophy': 'Entertainment',\n",
    "    'TwoXChromosomes': 'Entertainment',\n",
    "    'InternetIsBeautiful': 'Entertainment',\n",
    "    'Art': 'Entertainment',\n",
    "    'sports': 'Sports',\n",
    "    'oldschoolcool': 'Entertainment',\n",
    "    'technology': 'Science',\n",
    "    'blog': 'Entertainment',\n",
    "    'askscience': 'Science',\n",
    "    'announcements': 'Entertainment',\n",
    "    'photoshopbattles': 'Entertainment',\n",
    "    'mildlyinteresting': 'Entertainment',\n",
    "}\n",
    "\n",
    "\n",
    "# create new column in dataframe for super category\n",
    "df['super_category'] = df['subreddit'].map(subreddit_to_super_category)\n",
    "\n",
    "print(df[['subreddit', 'super_category']][211:220])\n",
    "\n",
    "# of unique catageories per super category\n",
    "print(df.groupby('super_category').size().sort_values(ascending=False))"
   ]
  },
  {
   "cell_type": "code",
   "execution_count": 8,
   "metadata": {},
   "outputs": [
    {
     "name": "stdout",
     "output_type": "stream",
     "text": [
      "826\n"
     ]
    }
   ],
   "source": [
    "# of body text where the body text is not null\n",
    "print(len(df[df['body'].notnull()]))"
   ]
  }
 ],
 "metadata": {
  "kernelspec": {
   "display_name": "Python 3",
   "language": "python",
   "name": "python3"
  },
  "language_info": {
   "codemirror_mode": {
    "name": "ipython",
    "version": 3
   },
   "file_extension": ".py",
   "mimetype": "text/x-python",
   "name": "python",
   "nbconvert_exporter": "python",
   "pygments_lexer": "ipython3",
   "version": "3.9.13"
  },
  "orig_nbformat": 4,
  "vscode": {
   "interpreter": {
    "hash": "e5bf2c6cd25f65e77a687210161142421f62ec412c3e200a36e1b1880a5ff153"
   }
  }
 },
 "nbformat": 4,
 "nbformat_minor": 2
}
